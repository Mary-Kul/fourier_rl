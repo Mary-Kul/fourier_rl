{
 "cells": [
  {
   "cell_type": "code",
   "execution_count": 2,
   "metadata": {},
   "outputs": [],
   "source": [
    "from statsmodels.graphics.tsaplots import plot_acf\n",
    "import sys\n",
    "import numpy as np\n",
    "sys.path.append('../')\n",
    "sys.path.append('../rlkit_master/')\n",
    "from rlkit_master.rlkit.samplers.rollout_functions import rollout\n",
    "import torch\n",
    "from gym.envs.mujoco import HalfCheetahEnv\n",
    "from rlkit_master.rlkit.envs.wrappers import NormalizedBoxEnv\n",
    "from skimage import util\n",
    "import matplotlib.pyplot as plt\n",
    "from sklearn.metrics import mean_squared_error\n",
    "import pickle\n",
    "from math import sqrt"
   ]
  },
  {
   "cell_type": "code",
   "execution_count": 3,
   "metadata": {},
   "outputs": [],
   "source": [
    "eval_env = NormalizedBoxEnv(HalfCheetahEnv())\n",
    "exp_name = 'name-of-experiment_2019_11_22_14_30_29_0000--s-0'"
   ]
  },
  {
   "cell_type": "code",
   "execution_count": 4,
   "metadata": {},
   "outputs": [],
   "source": [
    "def get_action_mean_ft_spectrum_from_epoch(exp_name,act_num,epoch_num):\n",
    "    agent = torch.load(f'../rlkit_master/data/name-of-experiment/{exp_name}/itr_{epoch_num}.pkl')\n",
    "    agent = agent['trainer/policy']\n",
    "\n",
    "    rollout_dict = rollout(\n",
    "    env = eval_env ,\n",
    "    agent = agent,\n",
    "    max_path_length=1000,\n",
    "    render=False,\n",
    "    render_kwargs=None,\n",
    "        )\n",
    "\n",
    "    M = int(10*8)\n",
    "    slices = util.view_as_windows(rollout_dict['actions'][:,act_num], window_shape=(M,), step=6)\n",
    "    # remove DC\n",
    "    slices -= np.mean(slices)\n",
    "    \n",
    "    win = np.hanning(M + 1)[:-1]\n",
    "    slices = slices * win\n",
    "\n",
    "    spectrum = np.fft.rfft(slices.T, axis=0, norm=\"ortho\")\n",
    "    return (np.abs(spectrum).mean(axis = 1))"
   ]
  },
  {
   "cell_type": "code",
   "execution_count": 6,
   "metadata": {},
   "outputs": [],
   "source": [
    "act_num = 5\n",
    "x1 = 0\n",
    "x2 = 41\n",
    "x = np.arange(x1,x2)\n",
    "\n",
    "# x = np.linspace(0, 10, 500)\n",
    "max_steps = 2990\n",
    "y_dict ={}\n",
    "for act in range(6):\n",
    "    for epoch in range(0,max_steps,10):\n",
    "        y_dict[f'{act}_{epoch}'] = get_action_mean_ft_spectrum_from_epoch(exp_name,act,epoch)\n",
    "y_dict[\"y\"] = y_dict['0_0']\n",
    "\n",
    "y_dict['x'] = x"
   ]
  },
  {
   "cell_type": "code",
   "execution_count": 7,
   "metadata": {},
   "outputs": [],
   "source": [
    "\n",
    "with open(f'y_dict_{exp_name}.ppkl', 'wb') as handle:\n",
    "    pickle.dump(y_dict, handle, protocol=pickle.HIGHEST_PROTOCOL)"
   ]
  },
  {
   "cell_type": "code",
   "execution_count": 5,
   "metadata": {},
   "outputs": [],
   "source": [
    "with open(f'y_dict_{exp_name}.ppkl', 'rb') as handle:\n",
    "    y_dict = pickle.load(handle)"
   ]
  },
  {
   "cell_type": "code",
   "execution_count": 6,
   "metadata": {},
   "outputs": [],
   "source": [
    "# y_dict.keys()"
   ]
  },
  {
   "cell_type": "code",
   "execution_count": 10,
   "metadata": {},
   "outputs": [
    {
     "data": {
      "text/plain": [
       "13"
      ]
     },
     "execution_count": 10,
     "metadata": {},
     "output_type": "execute_result"
    }
   ],
   "source": [
    "# Plot aoutocorrelation plots\n",
    "from statsmodels.graphics.tsaplots import plot_acf\n",
    "epoch_num = 2980#560  2530\n",
    "act_num = 0#2\n",
    "# name-of-experiment_2020_01_06_15_38_29_0000--s-0\n",
    "exp_name = 'name-of-experiment_2019_11_22_14_30_29_0000--s-0'\n",
    "# 'name-of-experiment_2020_01_10_23_16_20_0000--s-0'\n",
    "agent = torch.load(f'../rlkit_master/data/name-of-experiment/{exp_name}/itr_{epoch_num}.pkl')\n",
    "agent = agent['trainer/policy']\n",
    "\n",
    "rollout_dict = rollout(\n",
    "env = eval_env ,\n",
    "agent = agent,\n",
    "max_path_length=1000,\n",
    "render=False,\n",
    "render_kwargs=None,\n",
    "    )\n",
    "\n",
    "period = np.argmax(y_dict[f'{act_num}_{epoch_num}'])\n",
    "actions = rollout_dict['actions'][:,act_num]\n",
    "period"
   ]
  },
  {
   "cell_type": "code",
   "execution_count": 14,
   "metadata": {},
   "outputs": [
    {
     "name": "stdout",
     "output_type": "stream",
     "text": [
      "Using matplotlib backend: MacOSX\n"
     ]
    },
    {
     "data": {
      "image/png": "[encoded data removed]",
      "text/plain": [
       "<Figure size 640x480 with 1 Axes>"
      ]
     },
     "execution_count": 14,
     "metadata": {},
     "output_type": "execute_result"
    }
   ],
   "source": [
    "%matplotlib\n",
    "# plt.xlim = (50,200)\n",
    "\n",
    "plot_acf(actions,lags=10)"
   ]
  },
  {
   "cell_type": "code",
   "execution_count": 20,
   "metadata": {},
   "outputs": [],
   "source": [
    "shift = 2\n",
    "n_start = 650\n",
    "n_end = 750\n",
    "plt.figure(figsize=(16, 6))\n",
    "plt.plot(actions[n_start:n_end])\n",
    "# plt.plot(actions[13550+13])\n",
    "plt.plot(actions[n_start+shift:n_end+shift])\n",
    "plt.show()"
   ]
  },
  {
   "cell_type": "code",
   "execution_count": 19,
   "metadata": {},
   "outputs": [
    {
     "name": "stdout",
     "output_type": "stream",
     "text": [
      "period = 1\n",
      "1.0117376612954112\n",
      "period = 2\n",
      "1.4851691280089596\n",
      "period = 3\n",
      "1.6025759584037236\n",
      "period = 4\n",
      "1.4734787806758707\n",
      "period = 5\n",
      "0.9986308679201773\n",
      "period = 6\n",
      "0.3164522702693344\n",
      "period = 7\n",
      "1.0251479088668212\n",
      "period = 8\n",
      "1.4837746460176475\n",
      "period = 9\n",
      "1.5982071129713284\n"
     ]
    },
    {
     "data": {
      "text/plain": [
       "(6, 0.3164522702693344)"
      ]
     },
     "execution_count": 19,
     "metadata": {},
     "output_type": "execute_result"
    }
   ],
   "source": [
    "# check period\n",
    "min_rmse = 10\n",
    "for period in range(1,10):\n",
    "    rmse = sqrt(mean_squared_error(actions[:-period], actions[period:]))\n",
    "    print('period =', period )\n",
    "    print(rmse)\n",
    "    if rmse < min_rmse:\n",
    "        min_rmse = rmse\n",
    "        min_period = period\n",
    "        \n",
    "min_period, min_rmse"
   ]
  },
  {
   "cell_type": "code",
   "execution_count": null,
   "metadata": {},
   "outputs": [],
   "source": []
  }
 ],
 "metadata": {
  "kernelspec": {
   "display_name": "Fourier_RL",
   "language": "python",
   "name": "fourier_rl"
  },
  "language_info": {
   "codemirror_mode": {
    "name": "ipython",
    "version": 3
   },
   "file_extension": ".py",
   "mimetype": "text/x-python",
   "name": "python",
   "nbconvert_exporter": "python",
   "pygments_lexer": "ipython3",
   "version": "3.7.4"
  }
 },
 "nbformat": 4,
 "nbformat_minor": 2
}
