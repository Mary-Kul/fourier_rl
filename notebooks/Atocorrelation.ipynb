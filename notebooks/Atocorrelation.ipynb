{
 "cells": [
  {
   "cell_type": "code",
   "execution_count": 47,
   "metadata": {},
   "outputs": [],
   "source": [
    "from statsmodels.graphics.tsaplots import plot_acf\n",
    "import sys\n",
    "import numpy as np\n",
    "sys.path.append('../')\n",
    "sys.path.append('../rlkit_master/')\n",
    "from rlkit_master.rlkit.samplers.rollout_functions import rollout\n",
    "import torch\n",
    "from gym.envs.mujoco import HalfCheetahEnv\n",
    "from rlkit_master.rlkit.envs.wrappers import NormalizedBoxEnv\n",
    "from skimage import util\n",
    "import matplotlib.pyplot as plt\n",
    "from sklearn.metrics import mean_squared_error\n",
    "\n",
    "from math import sqrt"
   ]
  },
  {
   "cell_type": "code",
   "execution_count": 31,
   "metadata": {},
   "outputs": [],
   "source": [
    "eval_env = NormalizedBoxEnv(HalfCheetahEnv())\n",
    "exp_name = 'name-of-experiment_2020_01_10_23_16_20_0000--s-0'"
   ]
  },
  {
   "cell_type": "code",
   "execution_count": 32,
   "metadata": {},
   "outputs": [],
   "source": [
    "def get_action_mean_ft_spectrum_from_epoch(exp_name,act_num,epoch_num):\n",
    "    agent = torch.load(f'../rlkit_master/data/name-of-experiment/{exp_name}/itr_{epoch_num}.pkl')\n",
    "    agent = agent['trainer/policy']\n",
    "\n",
    "    rollout_dict = rollout(\n",
    "    env = eval_env ,\n",
    "    agent = agent,\n",
    "    max_path_length=1000,\n",
    "    render=False,\n",
    "    render_kwargs=None,\n",
    "        )\n",
    "\n",
    "    M = int(10*8)\n",
    "    slices = util.view_as_windows(rollout_dict['actions'][:,act_num], window_shape=(M,), step=6)\n",
    "    # remove DC\n",
    "    slices -= np.mean(slices)\n",
    "    \n",
    "    win = np.hanning(M + 1)[:-1]\n",
    "    slices = slices * win\n",
    "\n",
    "    spectrum = np.fft.rfft(slices.T, axis=0, norm=\"ortho\")\n",
    "    return (np.abs(spectrum).mean(axis = 1))"
   ]
  },
  {
   "cell_type": "code",
   "execution_count": 33,
   "metadata": {},
   "outputs": [],
   "source": [
    "act_num = 5\n",
    "x1 = 0\n",
    "x2 = 41\n",
    "x = np.arange(x1,x2)\n",
    "\n",
    "# x = np.linspace(0, 10, 500)\n",
    "max_steps = 4990\n",
    "y_dict ={}\n",
    "for act in range(6):\n",
    "    for epoch in range(0,max_steps,10):\n",
    "        y_dict[f'{act}_{epoch}'] = get_action_mean_ft_spectrum_from_epoch(exp_name,act,epoch)\n",
    "y_dict[\"y\"] = y_dict['0_0']\n",
    "\n",
    "y_dict['x'] = x"
   ]
  },
  {
   "cell_type": "code",
   "execution_count": 36,
   "metadata": {},
   "outputs": [],
   "source": [
    "# y_dict.keys()"
   ]
  },
  {
   "cell_type": "code",
   "execution_count": 37,
   "metadata": {},
   "outputs": [
    {
     "data": {
      "text/plain": [
       "13"
      ]
     },
     "execution_count": 37,
     "metadata": {},
     "output_type": "execute_result"
    }
   ],
   "source": [
    "# Plot aoutocorrelation plots\n",
    "from statsmodels.graphics.tsaplots import plot_acf\n",
    "epoch_num = 4980#560  2530\n",
    "act_num = 2#2\n",
    "# name-of-experiment_2020_01_06_15_38_29_0000--s-0\n",
    "exp_name = 'name-of-experiment_2020_01_10_23_16_20_0000--s-0'\n",
    "# 'name-of-experiment_2020_01_10_23_16_20_0000--s-0'\n",
    "agent = torch.load(f'../rlkit_master/data/name-of-experiment/{exp_name}/itr_{epoch_num}.pkl')\n",
    "agent = agent['trainer/policy']\n",
    "\n",
    "rollout_dict = rollout(\n",
    "env = eval_env ,\n",
    "agent = agent,\n",
    "max_path_length=1000,\n",
    "render=False,\n",
    "render_kwargs=None,\n",
    "    )\n",
    "\n",
    "period = np.argmax(y_dict[f'{act_num}_{epoch_num}'])\n",
    "actions = rollout_dict['actions'][:,act_num]\n",
    "period"
   ]
  },
  {
   "cell_type": "code",
   "execution_count": 38,
   "metadata": {},
   "outputs": [
    {
     "name": "stdout",
     "output_type": "stream",
     "text": [
      "Using matplotlib backend: TkAgg\n"
     ]
    },
    {
     "data": {
      "image/png": "[encoded data removed]",
      "text/plain": [
       "<Figure size 640x480 with 1 Axes>"
      ]
     },
     "execution_count": 38,
     "metadata": {},
     "output_type": "execute_result"
    }
   ],
   "source": [
    "%matplotlib\n",
    "# plt.xlim = (50,200)\n",
    "\n",
    "plot_acf(actions,lags=100)"
   ]
  },
  {
   "cell_type": "code",
   "execution_count": 42,
   "metadata": {},
   "outputs": [],
   "source": [
    "shift = 6\n",
    "plt.figure(figsize=(16, 6))\n",
    "plt.plot(actions[50:150])\n",
    "# plt.plot(actions[13550+13])\n",
    "plt.plot(actions[50+shift:150+shift])\n",
    "plt.show()"
   ]
  },
  {
   "cell_type": "code",
   "execution_count": 48,
   "metadata": {},
   "outputs": [
    {
     "name": "stdout",
     "output_type": "stream",
     "text": [
      "period = 1\n",
      "1.0398396045536265\n",
      "period = 2\n",
      "1.384357042389901\n",
      "period = 3\n",
      "1.7160343564246636\n",
      "period = 4\n",
      "1.3867824486085323\n",
      "period = 5\n",
      "1.044252612683528\n",
      "period = 6\n",
      "0.2511385235513099\n",
      "period = 7\n",
      "1.0392451305078025\n",
      "period = 8\n",
      "1.3792475205123103\n",
      "period = 9\n",
      "1.7112141564058727\n",
      "period = 10\n",
      "1.388333049917631\n",
      "period = 11\n",
      "1.053574377337525\n",
      "period = 12\n",
      "0.2844261595012417\n",
      "period = 13\n",
      "1.0353883878861745\n",
      "period = 14\n",
      "1.3726796599266142\n",
      "period = 15\n",
      "1.706156351502791\n",
      "period = 16\n",
      "1.3911600262389088\n",
      "period = 17\n",
      "1.0621144773382465\n",
      "period = 18\n",
      "0.3199886452627287\n",
      "period = 19\n",
      "1.0326951622496592\n",
      "period = 20\n",
      "1.3681075569807941\n",
      "period = 21\n",
      "1.7018659645090077\n",
      "period = 22\n",
      "1.3924860127977596\n",
      "period = 23\n",
      "1.0672025397429208\n",
      "period = 24\n",
      "0.33641397707401594\n",
      "period = 25\n",
      "1.032063250222445\n",
      "period = 26\n",
      "1.3641622150762527\n",
      "period = 27\n",
      "1.6997023321852238\n",
      "period = 28\n",
      "1.3928568214723545\n",
      "period = 29\n",
      "1.0724903420144605\n",
      "period = 30\n",
      "0.3519788501919086\n",
      "period = 31\n",
      "1.0319950995513723\n",
      "period = 32\n",
      "1.3599955140067894\n",
      "period = 33\n",
      "1.6960932608190364\n",
      "period = 34\n",
      "1.3923101608750572\n",
      "period = 35\n",
      "1.0789591009079955\n",
      "period = 36\n",
      "0.3648451705022764\n",
      "period = 37\n",
      "1.0317775070742283\n",
      "period = 38\n",
      "1.3531481751886667\n",
      "period = 39\n",
      "1.6922477760745536\n",
      "period = 40\n",
      "1.3929129648725225\n",
      "period = 41\n",
      "1.0849374241517118\n",
      "period = 42\n",
      "0.3802548819836103\n",
      "period = 43\n",
      "1.0317611005780731\n",
      "period = 44\n",
      "1.3506018250828007\n",
      "period = 45\n",
      "1.6886338557265914\n",
      "period = 46\n",
      "1.3933609184168894\n",
      "period = 47\n",
      "1.0905348251358067\n",
      "period = 48\n",
      "0.3942451383850937\n",
      "period = 49\n",
      "1.0309984304895303\n"
     ]
    },
    {
     "data": {
      "text/plain": [
       "(6, 0.2511385235513099)"
      ]
     },
     "execution_count": 48,
     "metadata": {},
     "output_type": "execute_result"
    }
   ],
   "source": [
    "# check period\n",
    "min_rmse = 10\n",
    "for period in range(1,50):\n",
    "    rmse = sqrt(mean_squared_error(actions[:-period], actions[period:]))\n",
    "    print('period =', period )\n",
    "    print(rmse)\n",
    "    if rmse < min_rmse:\n",
    "        min_rmse = rmse\n",
    "        min_period = period\n",
    "        \n",
    "min_period, min_rmse"
   ]
  },
  {
   "cell_type": "code",
   "execution_count": null,
   "metadata": {},
   "outputs": [],
   "source": []
  }
 ],
 "metadata": {
  "kernelspec": {
   "display_name": "fourier_rl",
   "language": "python",
   "name": "fourier_rl"
  },
  "language_info": {
   "codemirror_mode": {
    "name": "ipython",
    "version": 3
   },
   "file_extension": ".py",
   "mimetype": "text/x-python",
   "name": "python",
   "nbconvert_exporter": "python",
   "pygments_lexer": "ipython3",
   "version": "3.7.6"
  }
 },
 "nbformat": 4,
 "nbformat_minor": 2
}
